{
 "cells": [
  {
   "cell_type": "code",
   "execution_count": 1,
   "metadata": {},
   "outputs": [
    {
     "name": "stderr",
     "output_type": "stream",
     "text": [
      "/home/project21/.local/lib/python3.10/site-packages/tqdm/auto.py:21: TqdmWarning: IProgress not found. Please update jupyter and ipywidgets. See https://ipywidgets.readthedocs.io/en/stable/user_install.html\n",
      "  from .autonotebook import tqdm as notebook_tqdm\n"
     ]
    }
   ],
   "source": [
    "from bce.antigen.antigen import AntigenChain"
   ]
  },
  {
   "cell_type": "code",
   "execution_count": 2,
   "metadata": {},
   "outputs": [
    {
     "name": "stdout",
     "output_type": "stream",
     "text": [
      "Found pdb file at /home/project21/Yitao/project_1/BCE_prediction/data/antigen_structs/5i9q_A.pdb\n"
     ]
    }
   ],
   "source": [
    "pdb_id = \"5i9q\"\n",
    "chain_id = \"A\"\n",
    "\n",
    "antigen_chain = AntigenChain.from_pdb(id=pdb_id, chain_id = chain_id)\n",
    "\n",
    "embeddings, backbone_atoms, rsa, coverage_dict= antigen_chain.data_preparation(radius=19.0)"
   ]
  },
  {
   "cell_type": "code",
   "execution_count": null,
   "metadata": {},
   "outputs": [],
   "source": [
    "prediction_results = antigen_chain.predict(\n",
    "    device_id=0,\n",
    "    radius=19.0,\n",
    "    k=7,\n",
    "    encoder=\"esmc\",\n",
    "    verbose=True,\n",
    "    use_gpu=False\n",
    ")"
   ]
  },
  {
   "cell_type": "code",
   "execution_count": null,
   "metadata": {},
   "outputs": [],
   "source": [
    "view = antigen_chain.visualize(\n",
    "    mode='prediction',\n",
    "    predict_results=prediction_results,\n",
    "    show_shape=True,\n",
    "    max_spheres=4,          \n",
    "    surface_opacity=1.2,    \n",
    "    shape_opacity=0.3,\n",
    "    show_surface=True,\n",
    "    \n",
    ")\n",
    "view.show()"
   ]
  },
  {
   "cell_type": "code",
   "execution_count": null,
   "metadata": {},
   "outputs": [],
   "source": [
    "evaluation_results = antigen_chain.evaluate(\n",
    "    device_id=0,\n",
    "    radius=19.0,\n",
    "    k=7,\n",
    "    encoder=\"esmc\",\n",
    "    verbose=True,\n",
    "    use_gpu=False\n",
    ")"
   ]
  },
  {
   "cell_type": "code",
   "execution_count": null,
   "metadata": {},
   "outputs": [],
   "source": [
    "view = antigen_chain.visualize(\n",
    "    mode='evaluation',\n",
    "    predict_results=evaluation_results,\n",
    "    show_shape=True,\n",
    "    max_spheres=4,          \n",
    "    surface_opacity=1.2,    \n",
    "    shape_opacity=0.3,\n",
    "    show_surface=True,\n",
    "    \n",
    ")\n",
    "view.show()"
   ]
  }
 ],
 "metadata": {
  "kernelspec": {
   "display_name": "ReCEP",
   "language": "python",
   "name": "python3"
  },
  "language_info": {
   "codemirror_mode": {
    "name": "ipython",
    "version": 3
   },
   "file_extension": ".py",
   "mimetype": "text/x-python",
   "name": "python",
   "nbconvert_exporter": "python",
   "pygments_lexer": "ipython3",
   "version": "3.10.18"
  }
 },
 "nbformat": 4,
 "nbformat_minor": 2
}
